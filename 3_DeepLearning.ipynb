{
 "cells": [
  {
   "cell_type": "markdown",
   "metadata": {},
   "source": [
    "Spooky Author Identification\n",
    "=============\n",
    "\n",
    "Deep Learning\n",
    "------------\n",
    "\n",
    "This notebook will be used to apply deep learning methods to predict the author. \n",
    "\n",
    "As what we have done in Notebook 2, we are still going to train separate deep learning models to predict the probabilities for each sentence, and then add the probabilities as new features for test set, and then train XGBoost model on these stacked features to predict the authors."
   ]
  },
  {
   "cell_type": "code",
   "execution_count": 2,
   "metadata": {
    "collapsed": true
   },
   "outputs": [],
   "source": [
    "# All the modules that will be used later\n",
    "import pandas as pd\n",
    "import numpy as np\n",
    "import matplotlib.pyplot as plt\n",
    "from nltk.corpus import stopwords\n",
    "from nltk.tokenize import word_tokenize\n",
    "from sklearn.preprocessing import StandardScaler\n",
    "from sklearn import model_selection, metrics\n",
    "from keras.preprocessing.text import Tokenizer\n",
    "from keras.preprocessing.sequence import pad_sequences\n",
    "from keras.utils import np_utils\n",
    "from keras.models import Sequential\n",
    "from keras.layers.embeddings import Embedding\n",
    "from keras.layers import Conv1D, MaxPooling1D, Flatten, LSTM, GlobalAveragePooling1D\n",
    "from keras.layers.core import Dense, Activation, Dropout\n",
    "from keras.layers.normalization import BatchNormalization\n",
    "from keras.callbacks import EarlyStopping\n",
    "import xgboost as xgb\n",
    "import itertools\n",
    "\n",
    "np.random.seed(1001) # so that the result could be reproduced"
   ]
  },
  {
   "cell_type": "markdown",
   "metadata": {},
   "source": [
    "Read the train and test sets which include the sentence statistics and text features created in Notebook 1 & 2."
   ]
  },
  {
   "cell_type": "code",
   "execution_count": 3,
   "metadata": {
    "scrolled": true
   },
   "outputs": [
    {
     "name": "stdout",
     "output_type": "stream",
     "text": [
      "Train data size:  (19579, 225)\n",
      "Test data size:  (8392, 224)\n"
     ]
    }
   ],
   "source": [
    "train = pd.read_csv('train_features.csv')\n",
    "test = pd.read_csv('test_features.csv')\n",
    "# Drop the first unnamed column\n",
    "train = train.drop('Unnamed: 0', axis = 1)\n",
    "test = test.drop('Unnamed: 0', axis = 1)\n",
    "print('Train data size: ', train.shape)\n",
    "print('Test data size: ', test.shape)"
   ]
  },
  {
   "cell_type": "code",
   "execution_count": 4,
   "metadata": {},
   "outputs": [
    {
     "data": {
      "text/plain": [
       "(19579,)"
      ]
     },
     "execution_count": 4,
     "metadata": {},
     "output_type": "execute_result"
    }
   ],
   "source": [
    "# Class labels\n",
    "author_mapping = {'EAP': 0, 'HPL': 1, 'MWS': 2}\n",
    "y_label = train['author'].map(author_mapping)\n",
    "y_label.shape"
   ]
  },
  {
   "cell_type": "markdown",
   "metadata": {},
   "source": [
    "Convoluntional Neural Network & Recurrent Neural Network\n",
    "--------------\n",
    "\n",
    "As the vocabulary is very large, we can introduce an embedding lookup on the inputs, and feed the embeddings to the neural network instead of the inputs themselves. We will train a 1D CNN and LSTM.\n",
    "\n",
    "Before feeding data into the neural networks, let's first process the text by the following steps:\n",
    "\n",
    "- Separate punctuations from words\n",
    "- Remove rare words which appear only once\n",
    "- Cut long sentence which contains more than 100 words\n",
    "\n",
    "In Notebook 1, we found that most sentences are shorter than 100 words. Thus we will use 100 as the maximum sequence length for padding here. This is a hyperparameter which could be tuned."
   ]
  },
  {
   "cell_type": "code",
   "execution_count": 5,
   "metadata": {
    "collapsed": true
   },
   "outputs": [],
   "source": [
    "# Separate punctuations from words\n",
    "def sep_punctuation(text):\n",
    "    text = text.replace(\"' \", \" ' \")\n",
    "    punc = set(',.:;\"?!')\n",
    "    res = set(text) & punc # check whether there is punctuation in the text\n",
    "    if not res:\n",
    "        return text\n",
    "    for p in res:\n",
    "        text = text.replace(p, ' {} '.format(p))\n",
    "    return text"
   ]
  },
  {
   "cell_type": "code",
   "execution_count": 6,
   "metadata": {
    "collapsed": true
   },
   "outputs": [],
   "source": [
    "train_text = []\n",
    "test_text = []\n",
    "\n",
    "for text in train['text'].values.tolist():\n",
    "    tokens = sep_punctuation(text).split()\n",
    "    train_text.append(' '.join(tokens))\n",
    "    \n",
    "for text in test['text'].values.tolist():\n",
    "    tokens = sep_punctuation(text).split()\n",
    "    test_text.append(' '.join(tokens))\n",
    "\n",
    "all_text = train_text + test_text"
   ]
  },
  {
   "cell_type": "code",
   "execution_count": 7,
   "metadata": {},
   "outputs": [
    {
     "name": "stdout",
     "output_type": "stream",
     "text": [
      "Number of unique words:  18831\n"
     ]
    }
   ],
   "source": [
    "# Tokenize each sentence into a sequence\n",
    "tokenizer = Tokenizer(filters = '') # Treat punctuations as words\n",
    "tokenizer.fit_on_texts(all_text)\n",
    "num_words = sum([1 for _, v in tokenizer.word_counts.items() if v >= 2]) # remove rare words\n",
    "\n",
    "tokenizer = Tokenizer(num_words = num_words, filters = '')\n",
    "tokenizer.fit_on_texts(all_text)\n",
    "train_text = tokenizer.texts_to_sequences(train_text)\n",
    "test_text = tokenizer.texts_to_sequences(test_text)\n",
    "\n",
    "print('Number of unique words: ', num_words)"
   ]
  },
  {
   "cell_type": "code",
   "execution_count": 8,
   "metadata": {
    "collapsed": true
   },
   "outputs": [],
   "source": [
    "max_len = 100\n",
    "\n",
    "train_text = pad_sequences(train_text, maxlen = max_len)\n",
    "test_text = pad_sequences(test_text, maxlen = max_len)"
   ]
  },
  {
   "cell_type": "markdown",
   "metadata": {},
   "source": [
    "Then let's fit a 1D convolutional neural network on the sequences we just created. "
   ]
  },
  {
   "cell_type": "code",
   "execution_count": 9,
   "metadata": {
    "collapsed": true
   },
   "outputs": [],
   "source": [
    "# Architecture of 1D convolutional neural network\n",
    "def conv_nn(num_words, max_len):\n",
    "    model = Sequential()\n",
    "    # Word embeddings, using a dimensionality of 100\n",
    "    model.add(Embedding(num_words, 100, input_length = max_len))\n",
    "    # Convolutional layer (1D, as temporal convolution)\n",
    "    model.add(Conv1D(64, 5, padding = 'valid', activation = 'relu'))\n",
    "    # Pooling layer\n",
    "    model.add(MaxPooling1D())\n",
    "    # Flatten layer\n",
    "    model.add(Flatten())\n",
    "    # Full connection layer\n",
    "    model.add(Dense(128, activation = 'relu'))\n",
    "    # Ouput layer\n",
    "    model.add(Dense(3, activation = 'softmax'))\n",
    "    # Compile the model\n",
    "    model.compile(loss = 'categorical_crossentropy', optimizer = 'adam')\n",
    "    return model "
   ]
  },
  {
   "cell_type": "code",
   "execution_count": 11,
   "metadata": {},
   "outputs": [
    {
     "name": "stdout",
     "output_type": "stream",
     "text": [
      "Mean cross-validation log-loss 0.440475926331\n"
     ]
    }
   ],
   "source": [
    "# Convert the class labels to binary class matrix\n",
    "y = np_utils.to_categorical(y_label)\n",
    "\n",
    "# Stop training when there is no improvement in validation set loss\n",
    "earlyStopping = EarlyStopping(monitor='val_loss', patience=0, verbose=0, mode='auto')\n",
    "\n",
    "# Run a 10-fold cross-validation using the sequences\n",
    "log_loss = []\n",
    "train_pred = np.zeros([train_text.shape[0], 3])\n",
    "kf = model_selection.KFold(n_splits = 10, shuffle = True, random_state = 1001)\n",
    "for dev_idx, val_idx in kf.split(train):\n",
    "    X_dev, X_val = train_text[dev_idx], train_text[val_idx]\n",
    "    y_dev, y_val = y[dev_idx], y[val_idx]\n",
    "    model = conv_nn(num_words, max_len)\n",
    "    model.fit(x = X_dev, y = y_dev, batch_size = 32, epochs = 10, verbose = 0, \n",
    "              validation_data = (X_val, y_val), callbacks = [earlyStopping])\n",
    "    y_pred = model.predict(X_val)\n",
    "    log_loss.append(metrics.log_loss(y_val, y_pred))\n",
    "    train_pred[val_idx] = y_pred # The predicted probabilities for validation set \n",
    "\n",
    "print(\"Mean cross-validation log-loss\", np.mean(log_loss))"
   ]
  },
  {
   "cell_type": "markdown",
   "metadata": {},
   "source": [
    "The log-loss is 0.44, very close to what we achieved by using term frequencies in Notebook 2. Let's plot the confusion matrix."
   ]
  },
  {
   "cell_type": "code",
   "execution_count": 12,
   "metadata": {
    "collapsed": true
   },
   "outputs": [],
   "source": [
    "def plot_confusion_matrix(cm, classes,\n",
    "                          normalize=False,\n",
    "                          title='Confusion matrix',\n",
    "                          cmap=plt.cm.Blues):\n",
    "    \"\"\"\n",
    "    This function prints and plots the confusion matrix.\n",
    "    Normalization can be applied by setting `normalize=True`.\n",
    "    \"\"\"\n",
    "    if normalize:\n",
    "        cm = cm.astype('float') / cm.sum(axis=1)[:, np.newaxis]\n",
    "        print(\"Normalized confusion matrix\")\n",
    "    else:\n",
    "        print('Confusion matrix, without normalization')\n",
    "\n",
    "    print(cm)\n",
    "\n",
    "    plt.imshow(cm, interpolation='nearest', cmap=cmap)\n",
    "    plt.title(title)\n",
    "    plt.colorbar()\n",
    "    tick_marks = np.arange(len(classes))\n",
    "    plt.xticks(tick_marks, classes, rotation=45)\n",
    "    plt.yticks(tick_marks, classes)\n",
    "\n",
    "    fmt = '.2f' if normalize else 'd'\n",
    "    thresh = cm.max() / 2.\n",
    "    for i, j in itertools.product(range(cm.shape[0]), range(cm.shape[1])):\n",
    "        plt.text(j, i, format(cm[i, j], fmt),\n",
    "                 horizontalalignment=\"center\",\n",
    "                 color=\"white\" if cm[i, j] > thresh else \"black\")\n",
    "\n",
    "    plt.tight_layout()\n",
    "    plt.ylabel('True label')\n",
    "    plt.xlabel('Predicted label')"
   ]
  },
  {
   "cell_type": "code",
   "execution_count": 13,
   "metadata": {},
   "outputs": [
    {
     "name": "stdout",
     "output_type": "stream",
     "text": [
      "Confusion matrix, without normalization\n",
      "[[667  54  61]\n",
      " [ 67 454  45]\n",
      " [ 95  12 502]]\n"
     ]
    },
    {
     "data": {
      "image/png": "[encoded data removed]",
      "text/plain": [
       "<matplotlib.figure.Figure at 0x135017d68>"
      ]
     },
     "metadata": {},
     "output_type": "display_data"
    }
   ],
   "source": [
    "# Compute confusion matrix\n",
    "cnf_matrix = metrics.confusion_matrix(y_label[val_idx], np.argmax(y_pred, axis = 1))\n",
    "np.set_printoptions(precision=2)\n",
    "\n",
    "# Plot non-normalized confusion matrix\n",
    "plt.figure()\n",
    "plot_confusion_matrix(cnf_matrix, classes=['EAP', 'HPL', 'MWS'],\n",
    "                      title='Confusion matrix, without normalization')\n",
    "\n",
    "plt.show()"
   ]
  },
  {
   "cell_type": "markdown",
   "metadata": {},
   "source": [
    "Let's add the predicted probabilities to train/test set."
   ]
  },
  {
   "cell_type": "code",
   "execution_count": 15,
   "metadata": {
    "collapsed": true
   },
   "outputs": [],
   "source": [
    "# Add the probabilities to features of train set\n",
    "train['conv_EAP'] = train_pred[:, 0]\n",
    "train['conv_HPL'] = train_pred[:, 1]\n",
    "train['conv_MWS'] = train_pred[:, 2]"
   ]
  },
  {
   "cell_type": "code",
   "execution_count": 14,
   "metadata": {
    "collapsed": true
   },
   "outputs": [],
   "source": [
    "model = conv_nn(num_words, max_len)\n",
    "model.fit(x = train_text, y = y, batch_size = 32, epochs = 10, verbose = 0)\n",
    "test_pred = model.predict(test_text)\n",
    "\n",
    "# Add the probabilities to features of test set\n",
    "test['conv_EAP'] = test_pred[:, 0]\n",
    "test['conv_HPL'] = test_pred[:, 1]\n",
    "test['conv_MWS'] = test_pred[:, 2]"
   ]
  },
  {
   "cell_type": "markdown",
   "metadata": {},
   "source": [
    "Now let's try to fit RNN using LSTM on the sequences."
   ]
  },
  {
   "cell_type": "code",
   "execution_count": 16,
   "metadata": {
    "collapsed": true
   },
   "outputs": [],
   "source": [
    "# Architecture of recurrent neural network using LSTM\n",
    "def lstm_nn(num_words, max_len):\n",
    "    model = Sequential()\n",
    "    # Word embeddings, using a dimensionality of 100\n",
    "    model.add(Embedding(num_words, 100, input_length = max_len))\n",
    "    # LSTM layer with 5 memory units\n",
    "    model.add(LSTM(5))\n",
    "    # Ouput layer\n",
    "    model.add(Dense(3, activation = 'softmax'))\n",
    "    # Compile the model\n",
    "    model.compile(loss = 'categorical_crossentropy', optimizer = 'adam')\n",
    "    return model"
   ]
  },
  {
   "cell_type": "code",
   "execution_count": 17,
   "metadata": {},
   "outputs": [
    {
     "name": "stdout",
     "output_type": "stream",
     "text": [
      "Mean cross-validation log-loss 0.494884311143\n"
     ]
    }
   ],
   "source": [
    "# Run a 10-fold cross-validation using the sequences\n",
    "log_loss = []\n",
    "train_pred = np.zeros([train_text.shape[0], 3])\n",
    "kf = model_selection.KFold(n_splits = 10, shuffle = True, random_state = 1001)\n",
    "for dev_idx, val_idx in kf.split(train):\n",
    "    X_dev, X_val = train_text[dev_idx], train_text[val_idx]\n",
    "    y_dev, y_val = y[dev_idx], y[val_idx]\n",
    "    model = lstm_nn(num_words, max_len)\n",
    "    model.fit(x = X_dev, y = y_dev, batch_size = 32, epochs = 10, verbose = 0, \n",
    "              validation_data = (X_val, y_val), callbacks = [earlyStopping])\n",
    "    y_pred = model.predict(X_val)\n",
    "    log_loss.append(metrics.log_loss(y_val, y_pred))\n",
    "    train_pred[val_idx] = y_pred # The predicted probabilities for validation set \n",
    "\n",
    "print(\"Mean cross-validation log-loss\", np.mean(log_loss))"
   ]
  },
  {
   "cell_type": "markdown",
   "metadata": {},
   "source": [
    "The log-loss is 0.49, very close to what we achieved by using 1D CNN. Let's plot the confusion matrix."
   ]
  },
  {
   "cell_type": "code",
   "execution_count": 18,
   "metadata": {},
   "outputs": [
    {
     "name": "stdout",
     "output_type": "stream",
     "text": [
      "Confusion matrix, without normalization\n",
      "[[662  53  67]\n",
      " [ 58 468  40]\n",
      " [ 89  25 495]]\n"
     ]
    },
    {
     "data": {
      "image/png": "[encoded data removed]",
      "text/plain": [
       "<matplotlib.figure.Figure at 0x139460780>"
      ]
     },
     "metadata": {},
     "output_type": "display_data"
    }
   ],
   "source": [
    "# Compute confusion matrix\n",
    "cnf_matrix = metrics.confusion_matrix(y_label[val_idx], np.argmax(y_pred, axis = 1))\n",
    "np.set_printoptions(precision=2)\n",
    "\n",
    "# Plot non-normalized confusion matrix\n",
    "plt.figure()\n",
    "plot_confusion_matrix(cnf_matrix, classes=['EAP', 'HPL', 'MWS'],\n",
    "                      title='Confusion matrix, without normalization')\n",
    "\n",
    "plt.show()"
   ]
  },
  {
   "cell_type": "markdown",
   "metadata": {},
   "source": [
    "Let's add the predicted probabilities to train/test set."
   ]
  },
  {
   "cell_type": "code",
   "execution_count": 19,
   "metadata": {
    "collapsed": true
   },
   "outputs": [],
   "source": [
    "# Add the probabilities to features of train set\n",
    "train['lstm_EAP'] = train_pred[:, 0]\n",
    "train['lstm_HPL'] = train_pred[:, 1]\n",
    "train['lstm_MWS'] = train_pred[:, 2]"
   ]
  },
  {
   "cell_type": "code",
   "execution_count": 20,
   "metadata": {
    "collapsed": true
   },
   "outputs": [],
   "source": [
    "model = lstm_nn(num_words, max_len)\n",
    "model.fit(x = train_text, y = y, batch_size = 32, epochs = 10, verbose = 0)\n",
    "test_pred = model.predict(test_text)\n",
    "\n",
    "# Add the probabilities to features of test set\n",
    "test['lstm_EAP'] = test_pred[:, 0]\n",
    "test['lstm_HPL'] = test_pred[:, 1]\n",
    "test['lstm_MWS'] = test_pred[:, 2]"
   ]
  },
  {
   "cell_type": "markdown",
   "metadata": {},
   "source": [
    "Sentence to Vectors\n",
    "--------------\n",
    "\n",
    "Instead of introducing embeddings for words, we could also try to convert the entire sentences to a vector, and make predictions based on the sentence vector. This time, we will use GloVe word embeddings, which contain 400,000 word vectors, each with a dimensionality of 100."
   ]
  },
  {
   "cell_type": "code",
   "execution_count": 21,
   "metadata": {},
   "outputs": [
    {
     "name": "stdout",
     "output_type": "stream",
     "text": [
      "GloVe word vectors length:  400000\n"
     ]
    }
   ],
   "source": [
    "word_embeddings = {}\n",
    "with open('glove.6B.100d.txt', 'r') as f:\n",
    "    for line in f:\n",
    "        tokens = line.split()\n",
    "        word = tokens[0]\n",
    "        values = np.asarray(tokens[1:], dtype = 'float32')\n",
    "        word_embeddings[word] = values\n",
    "\n",
    "print('GloVe word vectors length: ', len(word_embeddings))"
   ]
  },
  {
   "cell_type": "markdown",
   "metadata": {
    "collapsed": true
   },
   "source": [
    "Then let's turn each sentence into a normalized vector by using the word embeddings we just loaded."
   ]
  },
  {
   "cell_type": "code",
   "execution_count": 22,
   "metadata": {
    "collapsed": true
   },
   "outputs": [],
   "source": [
    "def sent2vec(sent, word_embeddings):\n",
    "    words = word_tokenize(str(sent).lower())\n",
    "    words = list(filter(lambda w: not w in stopwords.words('english'), words)) # Filter out stop words\n",
    "    words = list(filter(lambda w: w.isalpha(), words)) # Remove punctuations, numbers etc.\n",
    "    embedding = [word_embeddings[w] for w in words if w in word_embeddings] # Look up the embedding for each word\n",
    "    embedding = np.array(embedding)\n",
    "    s = np.sum(embedding, axis = 0)\n",
    "    if type(s) != np.ndarray:\n",
    "        return np.zeros(100)\n",
    "    return s / np.sqrt(np.sum(s ** 2)) # Normalize the sentence vector"
   ]
  },
  {
   "cell_type": "code",
   "execution_count": 23,
   "metadata": {},
   "outputs": [
    {
     "name": "stdout",
     "output_type": "stream",
     "text": [
      "Train sentence vector size:  (19579, 100)\n",
      "Test sentence vector size:  (8392, 100)\n"
     ]
    }
   ],
   "source": [
    "# Convert each sentence to vector\n",
    "train_glove_vec = [sent2vec(sent, word_embeddings) for sent in train['text']]\n",
    "train_glove_vec = np.array(train_glove_vec)\n",
    "test_glove_vec = [sent2vec(sent, word_embeddings) for sent in test['text']]\n",
    "test_glove_vec = np.array(test_glove_vec)\n",
    "print('Train sentence vector size: ', train_glove_vec.shape)\n",
    "print('Test sentence vector size: ', test_glove_vec.shape)"
   ]
  },
  {
   "cell_type": "markdown",
   "metadata": {},
   "source": [
    "Now let's train a 3-layer neural network model using the sentence vectors."
   ]
  },
  {
   "cell_type": "code",
   "execution_count": 24,
   "metadata": {
    "collapsed": true
   },
   "outputs": [],
   "source": [
    "# Architecture of 3-layer neural network\n",
    "def glove_nn():\n",
    "    model = Sequential()\n",
    "    # Input layer\n",
    "    model.add(Dense(128, input_dim = 100, activation = 'relu'))\n",
    "    model.add(BatchNormalization())\n",
    "    # Second layer\n",
    "    model.add(Dense(128, activation = 'relu'))\n",
    "    model.add(BatchNormalization())\n",
    "    # Output layer\n",
    "    model.add(Dense(3, activation = 'softmax'))\n",
    "    # Compile the model\n",
    "    model.compile(loss = 'categorical_crossentropy', optimizer = 'adam')\n",
    "    return model"
   ]
  },
  {
   "cell_type": "code",
   "execution_count": 25,
   "metadata": {},
   "outputs": [
    {
     "name": "stdout",
     "output_type": "stream",
     "text": [
      "Mean cross-validation log-loss 0.911168090601\n"
     ]
    }
   ],
   "source": [
    "# Scale the input data before feeding it into neural network\n",
    "scaler = StandardScaler()\n",
    "train_glove_vec = scaler.fit_transform(train_glove_vec)\n",
    "test_glove_vec = scaler.transform(test_glove_vec)\n",
    "y = np_utils.to_categorical(y_label)\n",
    "\n",
    "# Run a 10-fold cross-validation using train sentence vector\n",
    "log_loss = []\n",
    "train_pred = np.zeros([train_glove_vec.shape[0], 3])\n",
    "kf = model_selection.KFold(n_splits = 10, shuffle = True, random_state = 1001)\n",
    "for dev_idx, val_idx in kf.split(train):\n",
    "    X_dev, X_val = train_glove_vec[dev_idx], train_glove_vec[val_idx]\n",
    "    y_dev, y_val = y[dev_idx], y[val_idx]\n",
    "    model = glove_nn()\n",
    "    model.fit(x = X_dev, y = y_dev, batch_size = 32, epochs = 10, verbose = 0, validation_data = (X_val, y_val))\n",
    "    y_pred = model.predict(X_val)\n",
    "    log_loss.append(metrics.log_loss(y_val, y_pred))\n",
    "    train_pred[val_idx] = y_pred # The predicted probabilities for validation set \n",
    "\n",
    "print(\"Mean cross-validation log-loss\", np.mean(log_loss))"
   ]
  },
  {
   "cell_type": "markdown",
   "metadata": {},
   "source": [
    "The log-loss is 0.91, not as good as what we achieved in Notebook 2. Let's plot the confusion matrix."
   ]
  },
  {
   "cell_type": "code",
   "execution_count": 26,
   "metadata": {
    "scrolled": true
   },
   "outputs": [
    {
     "name": "stdout",
     "output_type": "stream",
     "text": [
      "Confusion matrix, without normalization\n",
      "[[542 102 138]\n",
      " [151 315 100]\n",
      " [127  81 401]]\n"
     ]
    },
    {
     "data": {
      "image/png": "[encoded data removed]",
      "text/plain": [
       "<matplotlib.figure.Figure at 0x170275ba8>"
      ]
     },
     "metadata": {},
     "output_type": "display_data"
    }
   ],
   "source": [
    "# Compute confusion matrix\n",
    "cnf_matrix = metrics.confusion_matrix(y_label[val_idx], np.argmax(y_pred, axis = 1))\n",
    "np.set_printoptions(precision=2)\n",
    "\n",
    "# Plot non-normalized confusion matrix\n",
    "plt.figure()\n",
    "plot_confusion_matrix(cnf_matrix, classes=['EAP', 'HPL', 'MWS'],\n",
    "                      title='Confusion matrix, without normalization')\n",
    "\n",
    "plt.show()"
   ]
  },
  {
   "cell_type": "markdown",
   "metadata": {},
   "source": [
    "Then let's add the predicted probabilities to train/test set as new features."
   ]
  },
  {
   "cell_type": "code",
   "execution_count": 27,
   "metadata": {
    "collapsed": true
   },
   "outputs": [],
   "source": [
    "# Add the probabilities to features of train set\n",
    "train['glove_EAP'] = train_pred[:, 0]\n",
    "train['glove_HPL'] = train_pred[:, 1]\n",
    "train['glove_MWS'] = train_pred[:, 2]"
   ]
  },
  {
   "cell_type": "code",
   "execution_count": 28,
   "metadata": {
    "collapsed": true
   },
   "outputs": [],
   "source": [
    "model = glove_nn()\n",
    "model.fit(x = train_glove_vec, y = y, batch_size = 32, epochs = 10, verbose = 0)\n",
    "test_pred = model.predict(test_glove_vec)\n",
    "\n",
    "# Add the probabilities to features of test set\n",
    "# Test is wrong\n",
    "test['glove_EAP'] = test_pred[:, 0]\n",
    "test['glove_HPL'] = test_pred[:, 1]\n",
    "test['glove_MWS'] = test_pred[:, 2]"
   ]
  },
  {
   "cell_type": "markdown",
   "metadata": {},
   "source": [
    "FastText\n",
    "--------------\n",
    "\n",
    "We will also try Facebook FastText model. We will use 1~3grams as features, and preprocess the text as we did for 1D CNN, including:\n",
    "\n",
    "- Separate punctuations from words\n",
    "- Remove rare terms which appear only once\n",
    "- Cut long sentence which contains more than 256 terms\n",
    "\n",
    "Here terms refer to unigram, bigram and trigram. The architecture of FastText includes:\n",
    "\n",
    "- Input layer: ngram features are fed into the neural network\n",
    "- Hidden layer: features are embedded and averaged\n",
    "- Ouput layer: softmax"
   ]
  },
  {
   "cell_type": "code",
   "execution_count": 29,
   "metadata": {
    "collapsed": true
   },
   "outputs": [],
   "source": [
    "# Create ngrams\n",
    "def ngram(doc, n = 3):\n",
    "    ngrams = []\n",
    "    for i in range(2, n + 1):\n",
    "        for j in range(len(doc) - i + 1):\n",
    "            ngrams.append('--'.join(doc[j:j+i]))\n",
    "    return doc + ngrams"
   ]
  },
  {
   "cell_type": "code",
   "execution_count": 30,
   "metadata": {
    "collapsed": true
   },
   "outputs": [],
   "source": [
    "# Turn each sentence into sequence of unigram, bigram, ..., ngram\n",
    "def create_doc(data, n = 3):\n",
    "    docs = []\n",
    "    for text in data:\n",
    "        doc = sep_punctuation(text).split()\n",
    "        docs.append(' '.join(ngram(doc, n)))\n",
    "    return docs"
   ]
  },
  {
   "cell_type": "code",
   "execution_count": 31,
   "metadata": {},
   "outputs": [
    {
     "name": "stdout",
     "output_type": "stream",
     "text": [
      "Number of unique terms:  169966\n"
     ]
    }
   ],
   "source": [
    "all_docs = create_doc(train['text'].values.tolist() + test['text'].values.tolist())\n",
    "train_docs = create_doc(train['text'].values.tolist())\n",
    "test_docs = create_doc(test['text'].values.tolist())\n",
    "\n",
    "tokenizer = Tokenizer(filters = '') # Treat punctuations as words\n",
    "tokenizer.fit_on_texts(all_docs)\n",
    "num_terms = sum([1 for _, v in tokenizer.word_counts.items() if v >= 2]) # remove rare terms\n",
    "\n",
    "tokenizer = Tokenizer(num_words = num_terms, filters = '')\n",
    "tokenizer.fit_on_texts(all_docs)\n",
    "train_docs = tokenizer.texts_to_sequences(train_docs)\n",
    "test_docs = tokenizer.texts_to_sequences(test_docs)\n",
    "\n",
    "print('Number of unique terms: ', num_terms)"
   ]
  },
  {
   "cell_type": "code",
   "execution_count": 32,
   "metadata": {
    "collapsed": true
   },
   "outputs": [],
   "source": [
    "max_len = 256\n",
    "\n",
    "train_docs = pad_sequences(train_docs, maxlen = max_len)\n",
    "test_docs = pad_sequences(test_docs, maxlen = max_len)"
   ]
  },
  {
   "cell_type": "code",
   "execution_count": 33,
   "metadata": {
    "collapsed": true
   },
   "outputs": [],
   "source": [
    "# Architecture of FastText\n",
    "def fast_text(input_dim):\n",
    "    model = Sequential()\n",
    "    # Embeddings, using a dimensionality of 100\n",
    "    model.add(Embedding(input_dim, 100))\n",
    "    # Embeddings are averaged\n",
    "    model.add(GlobalAveragePooling1D())\n",
    "    # Ouput layer\n",
    "    model.add(Dense(3, activation = 'softmax'))\n",
    "    # Compile the model\n",
    "    model.compile(optimizer = 'adam', loss = 'categorical_crossentropy')\n",
    "    return model"
   ]
  },
  {
   "cell_type": "code",
   "execution_count": 34,
   "metadata": {},
   "outputs": [
    {
     "name": "stdout",
     "output_type": "stream",
     "text": [
      "Mean cross-validation log-loss 0.345616391037\n"
     ]
    }
   ],
   "source": [
    "input_dim = max(np.max(train_docs), np.max(test_docs)) + 1 # Largest index of terms\n",
    "y = np_utils.to_categorical(y_label)\n",
    "\n",
    "# Run a 10-fold cross-validation using ngram features\n",
    "log_loss = []\n",
    "train_pred = np.zeros([train_docs.shape[0], 3])\n",
    "kf = model_selection.KFold(n_splits = 10, shuffle = True, random_state = 1001)\n",
    "for dev_idx, val_idx in kf.split(train):\n",
    "    X_dev, X_val = train_docs[dev_idx], train_docs[val_idx]\n",
    "    y_dev, y_val = y[dev_idx], y[val_idx]\n",
    "    model = fast_text(input_dim)\n",
    "    model.fit(x = X_dev, y = y_dev, batch_size = 32, epochs = 20, verbose = 0, \n",
    "              validation_data = (X_val, y_val), callbacks = [earlyStopping])\n",
    "    y_pred = model.predict(X_val)\n",
    "    log_loss.append(metrics.log_loss(y_val, y_pred))\n",
    "    train_pred[val_idx] = y_pred # The predicted probabilities for validation set \n",
    "\n",
    "print(\"Mean cross-validation log-loss\", np.mean(log_loss))"
   ]
  },
  {
   "cell_type": "markdown",
   "metadata": {},
   "source": [
    "The log-loss is only 0.35, the lowest so far! Let's plot the confusion matrix."
   ]
  },
  {
   "cell_type": "code",
   "execution_count": 35,
   "metadata": {
    "scrolled": true
   },
   "outputs": [
    {
     "name": "stdout",
     "output_type": "stream",
     "text": [
      "Confusion matrix, without normalization\n",
      "[[643  55  84]\n",
      " [ 42 485  39]\n",
      " [ 44  28 537]]\n"
     ]
    },
    {
     "data": {
      "image/png": "[encoded data removed]",
      "text/plain": [
       "<matplotlib.figure.Figure at 0x188304a58>"
      ]
     },
     "metadata": {},
     "output_type": "display_data"
    }
   ],
   "source": [
    "# Compute confusion matrix\n",
    "cnf_matrix = metrics.confusion_matrix(y_label[val_idx], np.argmax(y_pred, axis = 1))\n",
    "np.set_printoptions(precision=2)\n",
    "\n",
    "# Plot non-normalized confusion matrix\n",
    "plt.figure()\n",
    "plot_confusion_matrix(cnf_matrix, classes=['EAP', 'HPL', 'MWS'],\n",
    "                      title='Confusion matrix, without normalization')\n",
    "\n",
    "plt.show()"
   ]
  },
  {
   "cell_type": "code",
   "execution_count": 36,
   "metadata": {
    "collapsed": true
   },
   "outputs": [],
   "source": [
    "# Add the probabilities to features of train set\n",
    "train['fast_EAP'] = train_pred[:, 0]\n",
    "train['fast_HPL'] = train_pred[:, 1]\n",
    "train['fast_MWS'] = train_pred[:, 2]"
   ]
  },
  {
   "cell_type": "code",
   "execution_count": 37,
   "metadata": {
    "collapsed": true
   },
   "outputs": [],
   "source": [
    "model = fast_text(input_dim)\n",
    "model.fit(x = train_docs, y = y, batch_size = 32, epochs = 10, verbose = 0)\n",
    "test_pred = model.predict(test_docs)\n",
    "# Add the probabilities to features of test set\n",
    "test['fast_EAP'] = test_pred[:, 0]\n",
    "test['fast_HPL'] = test_pred[:, 1]\n",
    "test['fast_MWS'] = test_pred[:, 2]"
   ]
  },
  {
   "cell_type": "markdown",
   "metadata": {},
   "source": [
    "Model with Combined Features\n",
    "------------\n",
    "\n",
    "Now let's combine all the features we have created so far and train a xgboost model on them."
   ]
  },
  {
   "cell_type": "code",
   "execution_count": 38,
   "metadata": {
    "collapsed": true
   },
   "outputs": [],
   "source": [
    "def run_xgboost(X_train, y_train, X_val):\n",
    "    param = {'silent': 1, 'eta': 0.1, 'max_depth': 3, 'subsample': 0.8, 'colsample_bytree': 0.5,\n",
    "             'objective': 'multi:softprob', 'eval_metric': 'mlogloss', 'num_class': 3, 'seed': 1001}\n",
    "    plst = param.items()\n",
    "    num_round = 1000\n",
    "    dtrain = xgb.DMatrix(X_train, label = y_train)\n",
    "    model = xgb.train(plst, dtrain, num_round)\n",
    "    dtest = xgb.DMatrix(X_val)\n",
    "    y_pred = model.predict(dtest, ntree_limit = model.best_ntree_limit)\n",
    "    return model, y_pred"
   ]
  },
  {
   "cell_type": "code",
   "execution_count": 39,
   "metadata": {},
   "outputs": [
    {
     "data": {
      "text/plain": [
       "(19579, 234)"
      ]
     },
     "execution_count": 39,
     "metadata": {},
     "output_type": "execute_result"
    }
   ],
   "source": [
    "# Features\n",
    "X = train.drop(['id', 'text', 'author'], axis = 1)\n",
    "X.shape"
   ]
  },
  {
   "cell_type": "code",
   "execution_count": 40,
   "metadata": {},
   "outputs": [
    {
     "name": "stdout",
     "output_type": "stream",
     "text": [
      "Mean cross-validation log-loss 0.304155932054\n"
     ]
    }
   ],
   "source": [
    "# Run a 10-fold cross-validation using train set\n",
    "log_loss = []\n",
    "kf = model_selection.KFold(n_splits = 10, shuffle = True, random_state = 1001)\n",
    "for dev_idx, val_idx in kf.split(X):\n",
    "    X_dev, X_val = X.iloc[dev_idx], X.iloc[val_idx]\n",
    "    y_dev, y_val = y_label[dev_idx], y_label[val_idx]\n",
    "    model, y_pred = run_xgboost(X_dev, y_dev, X_val)\n",
    "    log_loss.append(metrics.log_loss(y_val, y_pred))\n",
    "\n",
    "print(\"Mean cross-validation log-loss\", np.mean(log_loss))"
   ]
  },
  {
   "cell_type": "markdown",
   "metadata": {},
   "source": [
    "The log-loss is only 0.30 now! Let's fit XGBoost model using all the train data and predict the authors for the test set."
   ]
  },
  {
   "cell_type": "code",
   "execution_count": 41,
   "metadata": {},
   "outputs": [
    {
     "data": {
      "text/plain": [
       "(8392, 234)"
      ]
     },
     "execution_count": 41,
     "metadata": {},
     "output_type": "execute_result"
    }
   ],
   "source": [
    "# Features of test set\n",
    "X_test = test.drop(['id', 'text'], axis = 1)\n",
    "X_test.shape"
   ]
  },
  {
   "cell_type": "code",
   "execution_count": 43,
   "metadata": {},
   "outputs": [
    {
     "data": {
      "text/html": [
       "<div>\n",
       "<style>\n",
       "    .dataframe thead tr:only-child th {\n",
       "        text-align: right;\n",
       "    }\n",
       "\n",
       "    .dataframe thead th {\n",
       "        text-align: left;\n",
       "    }\n",
       "\n",
       "    .dataframe tbody tr th {\n",
       "        vertical-align: top;\n",
       "    }\n",
       "</style>\n",
       "<table border=\"1\" class=\"dataframe\">\n",
       "  <thead>\n",
       "    <tr style=\"text-align: right;\">\n",
       "      <th></th>\n",
       "      <th>id</th>\n",
       "      <th>EAP</th>\n",
       "      <th>HPL</th>\n",
       "      <th>MWS</th>\n",
       "    </tr>\n",
       "  </thead>\n",
       "  <tbody>\n",
       "    <tr>\n",
       "      <th>0</th>\n",
       "      <td>id02310</td>\n",
       "      <td>0.0112683</td>\n",
       "      <td>0.00109443</td>\n",
       "      <td>0.987637</td>\n",
       "    </tr>\n",
       "    <tr>\n",
       "      <th>1</th>\n",
       "      <td>id24541</td>\n",
       "      <td>0.999285</td>\n",
       "      <td>0.000122546</td>\n",
       "      <td>0.000592818</td>\n",
       "    </tr>\n",
       "    <tr>\n",
       "      <th>2</th>\n",
       "      <td>id00134</td>\n",
       "      <td>0.000899481</td>\n",
       "      <td>0.998933</td>\n",
       "      <td>0.000167503</td>\n",
       "    </tr>\n",
       "    <tr>\n",
       "      <th>3</th>\n",
       "      <td>id27757</td>\n",
       "      <td>0.814295</td>\n",
       "      <td>0.183872</td>\n",
       "      <td>0.00183239</td>\n",
       "    </tr>\n",
       "    <tr>\n",
       "      <th>4</th>\n",
       "      <td>id04081</td>\n",
       "      <td>0.966587</td>\n",
       "      <td>0.030437</td>\n",
       "      <td>0.00297595</td>\n",
       "    </tr>\n",
       "  </tbody>\n",
       "</table>\n",
       "</div>"
      ],
      "text/plain": [
       "        id          EAP          HPL          MWS\n",
       "0  id02310    0.0112683   0.00109443     0.987637\n",
       "1  id24541     0.999285  0.000122546  0.000592818\n",
       "2  id00134  0.000899481     0.998933  0.000167503\n",
       "3  id27757     0.814295     0.183872   0.00183239\n",
       "4  id04081     0.966587     0.030437   0.00297595"
      ]
     },
     "execution_count": 43,
     "metadata": {},
     "output_type": "execute_result"
    }
   ],
   "source": [
    "model, test_prob = run_xgboost(X, y_label, X_test)\n",
    "sub_id = test['id'].values.reshape((len(test['id']), 1))\n",
    "submission = np.concatenate((sub_id, test_prob), axis = 1)\n",
    "submission = pd.DataFrame(submission, columns = ['id', 'EAP', 'HPL', 'MWS'])\n",
    "submission.head()"
   ]
  },
  {
   "cell_type": "code",
   "execution_count": 44,
   "metadata": {
    "collapsed": true
   },
   "outputs": [],
   "source": [
    "submission.to_csv('submission.csv')"
   ]
  },
  {
   "cell_type": "markdown",
   "metadata": {},
   "source": [
    "The final score is 0.31374 on Kaggle."
   ]
  },
  {
   "cell_type": "markdown",
   "metadata": {},
   "source": [
    "Reference\n",
    "---------\n",
    "\n",
    "[1] https://www.kaggle.com/rtatman/glove-global-vectors-for-word-representation/data\n",
    "\n",
    "[2] https://machinelearningmastery.com/sequence-classification-lstm-recurrent-neural-networks-python-keras/"
   ]
  }
 ],
 "metadata": {
  "kernelspec": {
   "display_name": "Python 3",
   "language": "python",
   "name": "python3"
  },
  "language_info": {
   "codemirror_mode": {
    "name": "ipython",
    "version": 3
   },
   "file_extension": ".py",
   "mimetype": "text/x-python",
   "name": "python",
   "nbconvert_exporter": "python",
   "pygments_lexer": "ipython3",
   "version": "3.6.2"
  }
 },
 "nbformat": 4,
 "nbformat_minor": 2
}
