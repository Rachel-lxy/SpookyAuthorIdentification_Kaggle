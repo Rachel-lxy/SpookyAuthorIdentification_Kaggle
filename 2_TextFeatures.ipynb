{
 "cells": [
  {
   "cell_type": "markdown",
   "metadata": {},
   "source": [
    "Spooky Author Identification\n",
    "=============\n",
    "\n",
    "Text Features\n",
    "------------\n",
    "\n",
    "This notebook will be used to create text features, including tf-idf, term frequencies and LDA topic modeling for the sentences, and fit models like Naive Bayes, XGBoost etc. to predict the authors. \n",
    "\n",
    "The tf-idf and term frequencies will be very sparse, thus the feature space will be too large if we directly use them as features. Instead, we could use the tf-idf and term frequencies to train separate Naive Bayes models to predict the probabilities for each sentence, and then use the probabilities as features to train XGBoost model to predict the authors."
   ]
  },
  {
   "cell_type": "code",
   "execution_count": 2,
   "metadata": {
    "collapsed": true
   },
   "outputs": [],
   "source": [
    "# All the modules that will be used later\n",
    "%matplotlib inline\n",
    "import pandas as pd\n",
    "import numpy as np\n",
    "import matplotlib.pyplot as plt\n",
    "from sklearn.feature_extraction.text import TfidfVectorizer, CountVectorizer\n",
    "from sklearn.decomposition import TruncatedSVD, LatentDirichletAllocation\n",
    "from sklearn.linear_model import LogisticRegression\n",
    "from sklearn import naive_bayes\n",
    "from sklearn import model_selection, metrics\n",
    "import xgboost as xgb\n",
    "import itertools"
   ]
  },
  {
   "cell_type": "markdown",
   "metadata": {},
   "source": [
    "Read the train and test sets which include the sentence statistics features created in Notebook 1."
   ]
  },
  {
   "cell_type": "code",
   "execution_count": 3,
   "metadata": {},
   "outputs": [
    {
     "name": "stdout",
     "output_type": "stream",
     "text": [
      "Train data size:  (19579, 10)\n",
      "Test data size:  (8392, 9)\n"
     ]
    }
   ],
   "source": [
    "train = pd.read_csv('train_features.csv')\n",
    "test = pd.read_csv('test_features.csv')\n",
    "# Drop the first unnamed column\n",
    "train = train.drop('Unnamed: 0', axis = 1)\n",
    "test = test.drop('Unnamed: 0', axis = 1)\n",
    "print('Train data size: ', train.shape)\n",
    "print('Test data size: ', test.shape)"
   ]
  },
  {
   "cell_type": "code",
   "execution_count": 4,
   "metadata": {},
   "outputs": [
    {
     "data": {
      "text/plain": [
       "(19579,)"
      ]
     },
     "execution_count": 4,
     "metadata": {},
     "output_type": "execute_result"
    }
   ],
   "source": [
    "# Class labels\n",
    "author_mapping = {'EAP': 0, 'HPL': 1, 'MWS': 2}\n",
    "y = train['author'].map(author_mapping)\n",
    "y.shape"
   ]
  },
  {
   "cell_type": "markdown",
   "metadata": {},
   "source": [
    "Tf-idf Features\n",
    "--------------\n",
    "\n",
    "Let's first compute the tf-idf values for words in the sentences."
   ]
  },
  {
   "cell_type": "code",
   "execution_count": 5,
   "metadata": {},
   "outputs": [
    {
     "name": "stdout",
     "output_type": "stream",
     "text": [
      "Train word tfidf size:  (19579, 39026)\n",
      "Test word tfidf size:  (8392, 39026)\n"
     ]
    }
   ],
   "source": [
    "tfidf_vectorizer = TfidfVectorizer(max_df = 0.95, min_df = 2, \n",
    "                                   ngram_range = (1, 3), stop_words = 'english')\n",
    "all_tfidf = tfidf_vectorizer.fit_transform(train['text'].values.tolist() + test['text'].values.tolist())\n",
    "train_tfidf = tfidf_vectorizer.transform(train['text'].values.tolist())\n",
    "test_tfidf = tfidf_vectorizer.transform(test['text'].values.tolist())\n",
    "print('Train word tfidf size: ', train_tfidf.shape)\n",
    "print('Test word tfidf size: ', test_tfidf.shape)"
   ]
  },
  {
   "cell_type": "markdown",
   "metadata": {
    "collapsed": true
   },
   "source": [
    "Then we can fit a Naive Bayes using the tf-idf values as features, as Naive Bayes sometimes gives good performance on high-dimensional text data, and is easy to train. Let's check its performance with cross-validation log-loss."
   ]
  },
  {
   "cell_type": "code",
   "execution_count": 6,
   "metadata": {},
   "outputs": [
    {
     "name": "stdout",
     "output_type": "stream",
     "text": [
      "Mean cross-validation log-loss 0.602685263621\n"
     ]
    }
   ],
   "source": [
    "# Run a 10-fold cross-validation using train set\n",
    "log_loss = []\n",
    "train_pred = np.zeros([train.shape[0], 3])\n",
    "kf = model_selection.KFold(n_splits = 10, shuffle = True, random_state = 1001)\n",
    "for dev_idx, val_idx in kf.split(train):\n",
    "    X_dev, X_val = train_tfidf[dev_idx], train_tfidf[val_idx]\n",
    "    y_dev, y_val = y[dev_idx], y[val_idx]\n",
    "    nb = naive_bayes.MultinomialNB()\n",
    "    nb.fit(X_dev, y_dev)\n",
    "    y_pred = nb.predict_proba(X_val)\n",
    "    log_loss.append(metrics.log_loss(y_val, y_pred))\n",
    "    train_pred[val_idx] = y_pred # The predicted probabilities for validation set \n",
    "\n",
    "print(\"Mean cross-validation log-loss\", np.mean(log_loss))"
   ]
  },
  {
   "cell_type": "markdown",
   "metadata": {
    "collapsed": true
   },
   "source": [
    "The log-loss dropped to 0.60 by using tf-idf values! That's a big improvement compared to using sentence statistics features. Let's plot the confusion matrix."
   ]
  },
  {
   "cell_type": "code",
   "execution_count": 7,
   "metadata": {
    "collapsed": true
   },
   "outputs": [],
   "source": [
    "def plot_confusion_matrix(cm, classes,\n",
    "                          normalize=False,\n",
    "                          title='Confusion matrix',\n",
    "                          cmap=plt.cm.Blues):\n",
    "    \"\"\"\n",
    "    This function prints and plots the confusion matrix.\n",
    "    Normalization can be applied by setting `normalize=True`.\n",
    "    \"\"\"\n",
    "    if normalize:\n",
    "        cm = cm.astype('float') / cm.sum(axis=1)[:, np.newaxis]\n",
    "        print(\"Normalized confusion matrix\")\n",
    "    else:\n",
    "        print('Confusion matrix, without normalization')\n",
    "\n",
    "    print(cm)\n",
    "\n",
    "    plt.imshow(cm, interpolation='nearest', cmap=cmap)\n",
    "    plt.title(title)\n",
    "    plt.colorbar()\n",
    "    tick_marks = np.arange(len(classes))\n",
    "    plt.xticks(tick_marks, classes, rotation=45)\n",
    "    plt.yticks(tick_marks, classes)\n",
    "\n",
    "    fmt = '.2f' if normalize else 'd'\n",
    "    thresh = cm.max() / 2.\n",
    "    for i, j in itertools.product(range(cm.shape[0]), range(cm.shape[1])):\n",
    "        plt.text(j, i, format(cm[i, j], fmt),\n",
    "                 horizontalalignment=\"center\",\n",
    "                 color=\"white\" if cm[i, j] > thresh else \"black\")\n",
    "\n",
    "    plt.tight_layout()\n",
    "    plt.ylabel('True label')\n",
    "    plt.xlabel('Predicted label')"
   ]
  },
  {
   "cell_type": "code",
   "execution_count": 8,
   "metadata": {},
   "outputs": [
    {
     "name": "stdout",
     "output_type": "stream",
     "text": [
      "Confusion matrix, without normalization\n",
      "[[687  28  67]\n",
      " [129 400  37]\n",
      " [ 82  16 511]]\n"
     ]
    },
    {
     "data": {
      "image/png": "[encoded data removed]",
      "text/plain": [
       "<matplotlib.figure.Figure at 0x11d4b5d30>"
      ]
     },
     "metadata": {},
     "output_type": "display_data"
    }
   ],
   "source": [
    "# Compute confusion matrix\n",
    "cnf_matrix = metrics.confusion_matrix(y_val, np.argmax(y_pred, axis = 1))\n",
    "np.set_printoptions(precision=2)\n",
    "\n",
    "# Plot non-normalized confusion matrix\n",
    "plt.figure()\n",
    "plot_confusion_matrix(cnf_matrix, classes=['EAP', 'HPL', 'MWS'],\n",
    "                      title='Confusion matrix, without normalization')\n",
    "\n",
    "plt.show()"
   ]
  },
  {
   "cell_type": "markdown",
   "metadata": {},
   "source": [
    "HPL is prone to be misclassified as EAP, also, EAP and MWS seem to be confusing to the model. Now let's fit a Naive Bayes model using all train data, and apply it to predict probabilities for the test set. These probabilities will be used as new features."
   ]
  },
  {
   "cell_type": "code",
   "execution_count": 9,
   "metadata": {
    "collapsed": true
   },
   "outputs": [],
   "source": [
    "# Add the probabilities to features of train set\n",
    "train['tfidf_word_EAP'] = train_pred[:, 0]\n",
    "train['tfidf_word_HPL'] = train_pred[:, 1]\n",
    "train['tfidf_word_MWS'] = train_pred[:, 2]"
   ]
  },
  {
   "cell_type": "code",
   "execution_count": 10,
   "metadata": {
    "collapsed": true
   },
   "outputs": [],
   "source": [
    "# Fit a Naive Bayes model using the entire train set\n",
    "nb = naive_bayes.MultinomialNB()\n",
    "nb.fit(train_tfidf, y)\n",
    "test_pred = nb.predict_proba(test_tfidf)\n",
    "\n",
    "# Add the probabilities to features of test set\n",
    "test['tfidf_word_EAP'] = test_pred[:, 0]\n",
    "test['tfidf_word_HPL'] = test_pred[:, 1]\n",
    "test['tfidf_word_MWS'] = test_pred[:, 2]"
   ]
  },
  {
   "cell_type": "markdown",
   "metadata": {},
   "source": [
    "In addition to the probabilities, we can also apply SVD on tfidf matrix to reduce its dimensionality, and add the leading components as features. Here we use 50 leading components, and the number of leading components is a hyperparameter which could be tuned."
   ]
  },
  {
   "cell_type": "code",
   "execution_count": 11,
   "metadata": {
    "collapsed": true
   },
   "outputs": [],
   "source": [
    "svd = TruncatedSVD(n_components = 50, algorithm = 'arpack')\n",
    "svd.fit(all_tfidf)\n",
    "train_tfidf_svd = pd.DataFrame(svd.transform(train_tfidf))\n",
    "test_tfidf_svd = pd.DataFrame(svd.transform(test_tfidf))\n",
    "train_tfidf_svd.columns = ['tfidf_word_svd_' + str(i) for i in range(50)]\n",
    "test_tfidf_svd.columns = ['tfidf_word_svd_' + str(i) for i in range(50)]\n",
    "train = pd.concat([train, train_tfidf_svd], axis = 1)\n",
    "test = pd.concat([test, test_tfidf_svd], axis = 1)"
   ]
  },
  {
   "cell_type": "markdown",
   "metadata": {},
   "source": [
    "Then let's compute the tf-idf values for characters in the sentences."
   ]
  },
  {
   "cell_type": "code",
   "execution_count": 12,
   "metadata": {},
   "outputs": [
    {
     "name": "stdout",
     "output_type": "stream",
     "text": [
      "Train character tfidf size:  (19579, 215829)\n",
      "Test character tfidf size:  (8392, 215829)\n"
     ]
    }
   ],
   "source": [
    "tfidf_vectorizer = TfidfVectorizer(ngram_range = (1, 5), analyzer = 'char')\n",
    "all_tfidf = tfidf_vectorizer.fit_transform(train['text'].values.tolist() + test['text'].values.tolist())\n",
    "train_tfidf = tfidf_vectorizer.transform(train['text'].values.tolist())\n",
    "test_tfidf = tfidf_vectorizer.transform(test['text'].values.tolist())\n",
    "print('Train character tfidf size: ', train_tfidf.shape)\n",
    "print('Test character tfidf size: ', test_tfidf.shape)"
   ]
  },
  {
   "cell_type": "markdown",
   "metadata": {},
   "source": [
    "Then let's also fit a Naive Bayes using the tf-idf values of characters as features."
   ]
  },
  {
   "cell_type": "code",
   "execution_count": 13,
   "metadata": {},
   "outputs": [
    {
     "name": "stdout",
     "output_type": "stream",
     "text": [
      "Mean cross-validation log-loss 0.756576465068\n"
     ]
    }
   ],
   "source": [
    "# Run a 10-fold cross-validation using train set\n",
    "log_loss = []\n",
    "train_pred = np.zeros([train.shape[0], 3])\n",
    "kf = model_selection.KFold(n_splits = 10, shuffle = True, random_state = 1001)\n",
    "for dev_idx, val_idx in kf.split(train):\n",
    "    X_dev, X_val = train_tfidf[dev_idx], train_tfidf[val_idx]\n",
    "    y_dev, y_val = y[dev_idx], y[val_idx]\n",
    "    nb = naive_bayes.MultinomialNB()\n",
    "    nb.fit(X_dev, y_dev)\n",
    "    y_pred = nb.predict_proba(X_val)\n",
    "    log_loss.append(metrics.log_loss(y_val, y_pred))\n",
    "    train_pred[val_idx] = y_pred # The predicted probabilities for validation set \n",
    "\n",
    "print(\"Mean cross-validation log-loss\", np.mean(log_loss))"
   ]
  },
  {
   "cell_type": "markdown",
   "metadata": {},
   "source": [
    "The log-loss is higher than the word-level tfidf. Let's check the confusion matrix."
   ]
  },
  {
   "cell_type": "code",
   "execution_count": 14,
   "metadata": {},
   "outputs": [
    {
     "name": "stdout",
     "output_type": "stream",
     "text": [
      "Confusion matrix, without normalization\n",
      "[[757  11  14]\n",
      " [387 165  14]\n",
      " [274   5 330]]\n"
     ]
    },
    {
     "data": {
      "image/png": "[encoded data removed]",
      "text/plain": [
       "<matplotlib.figure.Figure at 0x11b09bcf8>"
      ]
     },
     "metadata": {},
     "output_type": "display_data"
    }
   ],
   "source": [
    "# Compute confusion matrix\n",
    "cnf_matrix = metrics.confusion_matrix(y_val, np.argmax(y_pred, axis = 1))\n",
    "np.set_printoptions(precision=2)\n",
    "\n",
    "# Plot non-normalized confusion matrix\n",
    "plt.figure()\n",
    "plot_confusion_matrix(cnf_matrix, classes=['EAP', 'HPL', 'MWS'],\n",
    "                      title='Confusion matrix, without normalization')\n",
    "\n",
    "plt.show()"
   ]
  },
  {
   "cell_type": "markdown",
   "metadata": {},
   "source": [
    "The character-level tfidf does a better job in identifying EAP from the other two authors than the word-level tfidf. If we combine them, we might achieve even better performance."
   ]
  },
  {
   "cell_type": "code",
   "execution_count": 15,
   "metadata": {
    "collapsed": true
   },
   "outputs": [],
   "source": [
    "# Add the probabilities to features of train set\n",
    "train['tfidf_char_EAP'] = train_pred[:, 0]\n",
    "train['tfidf_char_HPL'] = train_pred[:, 1]\n",
    "train['tfidf_char_MWS'] = train_pred[:, 2]"
   ]
  },
  {
   "cell_type": "code",
   "execution_count": 16,
   "metadata": {
    "collapsed": true
   },
   "outputs": [],
   "source": [
    "# Fit a Naive Bayes model using the entire train set\n",
    "nb = naive_bayes.MultinomialNB()\n",
    "nb.fit(train_tfidf, y)\n",
    "test_pred = nb.predict_proba(test_tfidf)\n",
    "\n",
    "# Add the probabilities to features of test set\n",
    "test['tfidf_char_EAP'] = test_pred[:, 0]\n",
    "test['tfidf_char_HPL'] = test_pred[:, 1]\n",
    "test['tfidf_char_MWS'] = test_pred[:, 2]"
   ]
  },
  {
   "cell_type": "code",
   "execution_count": 17,
   "metadata": {
    "collapsed": true
   },
   "outputs": [],
   "source": [
    "# Add the leading SVD components as features\n",
    "svd = TruncatedSVD(n_components = 50, algorithm = 'arpack')\n",
    "svd.fit(all_tfidf)\n",
    "train_tfidf_svd = pd.DataFrame(svd.transform(train_tfidf))\n",
    "test_tfidf_svd = pd.DataFrame(svd.transform(test_tfidf))\n",
    "train_tfidf_svd.columns = ['tfidf_char_svd_' + str(i) for i in range(50)]\n",
    "test_tfidf_svd.columns = ['tfidf_char_svd_' + str(i) for i in range(50)]\n",
    "train = pd.concat([train, train_tfidf_svd], axis = 1)\n",
    "test = pd.concat([test, test_tfidf_svd], axis = 1)"
   ]
  },
  {
   "cell_type": "markdown",
   "metadata": {},
   "source": [
    "Term Frequency Features\n",
    "--------------\n",
    "\n",
    "Then let's try the term frequencies for words in the sentences."
   ]
  },
  {
   "cell_type": "code",
   "execution_count": 18,
   "metadata": {},
   "outputs": [
    {
     "name": "stdout",
     "output_type": "stream",
     "text": [
      "Train word tf size:  (19579, 39026)\n",
      "Test word tf size:  (8392, 39026)\n"
     ]
    }
   ],
   "source": [
    "tf_vectorizer = CountVectorizer(max_df = 0.95, min_df = 2, ngram_range = (1, 3), stop_words = 'english')\n",
    "all_tf = tf_vectorizer.fit_transform(train['text'].values.tolist() + test['text'].values.tolist())\n",
    "train_tf = tf_vectorizer.transform(train['text'].values.tolist())\n",
    "test_tf = tf_vectorizer.transform(test['text'].values.tolist())\n",
    "print('Train word tf size: ', train_tf.shape)\n",
    "print('Test word tf size: ', test_tf.shape)"
   ]
  },
  {
   "cell_type": "markdown",
   "metadata": {},
   "source": [
    "Then let's fit a Naive Bayes using the term frequency values as features, and check its cross-validation log-loss."
   ]
  },
  {
   "cell_type": "code",
   "execution_count": 19,
   "metadata": {},
   "outputs": [
    {
     "name": "stdout",
     "output_type": "stream",
     "text": [
      "Mean cross-validation log-loss 0.45148570549\n"
     ]
    }
   ],
   "source": [
    "# Run a 10-fold cross-validation using train set\n",
    "log_loss = []\n",
    "train_pred = np.zeros([train.shape[0], 3])\n",
    "kf = model_selection.KFold(n_splits = 10, shuffle = True, random_state = 1001)\n",
    "for dev_idx, val_idx in kf.split(train):\n",
    "    X_dev, X_val = train_tf[dev_idx], train_tf[val_idx]\n",
    "    y_dev, y_val = y[dev_idx], y[val_idx]\n",
    "    nb = naive_bayes.MultinomialNB()\n",
    "    nb.fit(X_dev, y_dev)\n",
    "    y_pred = nb.predict_proba(X_val)\n",
    "    log_loss.append(metrics.log_loss(y_val, y_pred))\n",
    "    train_pred[val_idx] = y_pred # The predicted probabilities for validation set \n",
    "\n",
    "print(\"Mean cross-validation log-loss\", np.mean(log_loss))"
   ]
  },
  {
   "cell_type": "markdown",
   "metadata": {},
   "source": [
    "The log-loss is only 0.45 now! Let's plot the confusion matrix."
   ]
  },
  {
   "cell_type": "code",
   "execution_count": 20,
   "metadata": {},
   "outputs": [
    {
     "name": "stdout",
     "output_type": "stream",
     "text": [
      "Confusion matrix, without normalization\n",
      "[[624  50 108]\n",
      " [ 59 468  39]\n",
      " [ 47  28 534]]\n"
     ]
    },
    {
     "data": {
      "image/png": "[encoded data removed]",
      "text/plain": [
       "<matplotlib.figure.Figure at 0x1229c72e8>"
      ]
     },
     "metadata": {},
     "output_type": "display_data"
    }
   ],
   "source": [
    "# Compute confusion matrix\n",
    "cnf_matrix = metrics.confusion_matrix(y_val, np.argmax(y_pred, axis = 1))\n",
    "np.set_printoptions(precision=2)\n",
    "\n",
    "# Plot non-normalized confusion matrix\n",
    "plt.figure()\n",
    "plot_confusion_matrix(cnf_matrix, classes=['EAP', 'HPL', 'MWS'],\n",
    "                      title='Confusion matrix, without normalization')\n",
    "\n",
    "plt.show()"
   ]
  },
  {
   "cell_type": "markdown",
   "metadata": {},
   "source": [
    "This time, EAP is prone to be misclassified as MWS. Term frequency seems to be addressing different issues from tfidf. Now let's add the probabilities predicted by Naive Bayes model trained on the entire train set as new features for test set."
   ]
  },
  {
   "cell_type": "code",
   "execution_count": 21,
   "metadata": {
    "collapsed": true
   },
   "outputs": [],
   "source": [
    "# Add the probabilities to features of train set\n",
    "train['tf_word_EAP'] = train_pred[:, 0]\n",
    "train['tf_word_HPL'] = train_pred[:, 1]\n",
    "train['tf_word_MWS'] = train_pred[:, 2]"
   ]
  },
  {
   "cell_type": "code",
   "execution_count": 22,
   "metadata": {
    "collapsed": true
   },
   "outputs": [],
   "source": [
    "nb = naive_bayes.MultinomialNB()\n",
    "nb.fit(train_tf, y)\n",
    "test_pred = nb.predict_proba(test_tf)\n",
    "\n",
    "# Add the probabilities to features of test set\n",
    "test['tf_word_EAP'] = test_pred[:, 0]\n",
    "test['tf_word_HPL'] = test_pred[:, 1]\n",
    "test['tf_word_MWS'] = test_pred[:, 2]"
   ]
  },
  {
   "cell_type": "code",
   "execution_count": 23,
   "metadata": {
    "collapsed": true
   },
   "outputs": [],
   "source": [
    "# Add the leading SVD components as features\n",
    "svd = TruncatedSVD(n_components = 50, algorithm = 'arpack')\n",
    "svd.fit(all_tf)\n",
    "train_tf_svd = pd.DataFrame(svd.transform(train_tf))\n",
    "test_tf_svd = pd.DataFrame(svd.transform(test_tf))\n",
    "train_tf_svd.columns = ['tf_word_svd_' + str(i) for i in range(50)]\n",
    "test_tf_svd.columns = ['tf_word_svd_' + str(i) for i in range(50)]\n",
    "train = pd.concat([train, train_tf_svd], axis = 1)\n",
    "test = pd.concat([test, test_tf_svd], axis = 1)"
   ]
  },
  {
   "cell_type": "markdown",
   "metadata": {},
   "source": [
    "Then let's also fit a Naive Bayes using the character frequencies as features."
   ]
  },
  {
   "cell_type": "code",
   "execution_count": 24,
   "metadata": {},
   "outputs": [
    {
     "name": "stdout",
     "output_type": "stream",
     "text": [
      "Train character tf size:  (19579, 215829)\n",
      "Test character tf size:  (8392, 215829)\n"
     ]
    }
   ],
   "source": [
    "tf_vectorizer = CountVectorizer(ngram_range = (1, 5), analyzer = 'char')\n",
    "all_tf = tf_vectorizer.fit_transform(train['text'].values.tolist() + test['text'].values.tolist())\n",
    "train_tf = tf_vectorizer.transform(train['text'].values.tolist())\n",
    "test_tf = tf_vectorizer.transform(test['text'].values.tolist())\n",
    "print('Train character tf size: ', train_tf.shape)\n",
    "print('Test character tf size: ', test_tf.shape)"
   ]
  },
  {
   "cell_type": "code",
   "execution_count": 25,
   "metadata": {},
   "outputs": [
    {
     "name": "stdout",
     "output_type": "stream",
     "text": [
      "Mean cross-validation log-loss 3.11776367802\n"
     ]
    }
   ],
   "source": [
    "# Run a 10-fold cross-validation using train set\n",
    "log_loss = []\n",
    "train_pred = np.zeros([train.shape[0], 3])\n",
    "kf = model_selection.KFold(n_splits = 10, shuffle = True, random_state = 1001)\n",
    "for dev_idx, val_idx in kf.split(train):\n",
    "    X_dev, X_val = train_tf[dev_idx], train_tf[val_idx]\n",
    "    y_dev, y_val = y[dev_idx], y[val_idx]\n",
    "    nb = naive_bayes.MultinomialNB()\n",
    "    nb.fit(X_dev, y_dev)\n",
    "    y_pred = nb.predict_proba(X_val)\n",
    "    log_loss.append(metrics.log_loss(y_val, y_pred))\n",
    "    train_pred[val_idx] = y_pred # The predicted probabilities for validation set \n",
    "\n",
    "print(\"Mean cross-validation log-loss\", np.mean(log_loss))"
   ]
  },
  {
   "cell_type": "markdown",
   "metadata": {},
   "source": [
    "The log-loss is very high this time. Let's plot the confusion matrix."
   ]
  },
  {
   "cell_type": "code",
   "execution_count": 26,
   "metadata": {},
   "outputs": [
    {
     "name": "stdout",
     "output_type": "stream",
     "text": [
      "Confusion matrix, without normalization\n",
      "[[618  78  86]\n",
      " [ 73 451  42]\n",
      " [ 47  35 527]]\n"
     ]
    },
    {
     "data": {
      "image/png": "[encoded data removed]",
      "text/plain": [
       "<matplotlib.figure.Figure at 0x11b3a12e8>"
      ]
     },
     "metadata": {},
     "output_type": "display_data"
    }
   ],
   "source": [
    "# Compute confusion matrix\n",
    "cnf_matrix = metrics.confusion_matrix(y_val, np.argmax(y_pred, axis = 1))\n",
    "np.set_printoptions(precision=2)\n",
    "\n",
    "# Plot non-normalized confusion matrix\n",
    "plt.figure()\n",
    "plot_confusion_matrix(cnf_matrix, classes=['EAP', 'HPL', 'MWS'],\n",
    "                      title='Confusion matrix, without normalization')\n",
    "\n",
    "plt.show()"
   ]
  },
  {
   "cell_type": "code",
   "execution_count": 27,
   "metadata": {
    "collapsed": true
   },
   "outputs": [],
   "source": [
    "# Add the probabilities to features of train set\n",
    "train['tf_char_EAP'] = train_pred[:, 0]\n",
    "train['tf_char_HPL'] = train_pred[:, 1]\n",
    "train['tf_char_MWS'] = train_pred[:, 2]"
   ]
  },
  {
   "cell_type": "code",
   "execution_count": 28,
   "metadata": {
    "collapsed": true
   },
   "outputs": [],
   "source": [
    "nb = naive_bayes.MultinomialNB()\n",
    "nb.fit(train_tf, y)\n",
    "test_pred = nb.predict_proba(test_tf)\n",
    "\n",
    "# Add the probabilities to features of test set\n",
    "test['tf_char_EAP'] = test_pred[:, 0]\n",
    "test['tf_char_HPL'] = test_pred[:, 1]\n",
    "test['tf_char_MWS'] = test_pred[:, 2]"
   ]
  },
  {
   "cell_type": "code",
   "execution_count": 29,
   "metadata": {
    "collapsed": true
   },
   "outputs": [],
   "source": [
    "# Add the leading SVD components as features\n",
    "svd = TruncatedSVD(n_components = 50, algorithm = 'arpack')\n",
    "svd.fit(all_tf)\n",
    "train_tf_svd = pd.DataFrame(svd.transform(train_tf))\n",
    "test_tf_svd = pd.DataFrame(svd.transform(test_tf))\n",
    "train_tf_svd.columns = ['tf_char_svd_' + str(i) for i in range(50)]\n",
    "test_tf_svd.columns = ['tf_char_svd_' + str(i) for i in range(50)]\n",
    "train = pd.concat([train, train_tf_svd], axis = 1)\n",
    "test = pd.concat([test, test_tf_svd], axis = 1)"
   ]
  },
  {
   "cell_type": "markdown",
   "metadata": {},
   "source": [
    "Topic Modeling\n",
    "--------------\n",
    "\n",
    "Now let's try topic modeling with LDA. Similarly, we still fit a Naive Bayes using the topics as features, and add the probabilities predicted by the model trained on all train data as new features for test set."
   ]
  },
  {
   "cell_type": "code",
   "execution_count": 30,
   "metadata": {},
   "outputs": [
    {
     "name": "stdout",
     "output_type": "stream",
     "text": [
      "Train lda size:  (19579, 10)\n",
      "Test lda size:  (8392, 10)\n"
     ]
    }
   ],
   "source": [
    "tf_vectorizer = CountVectorizer(max_df = 0.95, min_df = 2, ngram_range = (1, 3), stop_words = 'english')\n",
    "all_tf = tf_vectorizer.fit_transform(train['text'].values.tolist() + test['text'].values.tolist())\n",
    "train_tf = tf_vectorizer.transform(train['text'].values.tolist())\n",
    "test_tf = tf_vectorizer.transform(test['text'].values.tolist())\n",
    "lda = LatentDirichletAllocation(n_topics = 10, max_iter = 5, learning_method = 'online', \n",
    "                                learning_offset = 50., random_state = 1001)\n",
    "all_lda = lda.fit_transform(all_tf)\n",
    "train_lda = lda.transform(train_tf)\n",
    "test_lda = lda.transform(test_tf)\n",
    "print('Train lda size: ', train_lda.shape)\n",
    "print('Test lda size: ', test_lda.shape)"
   ]
  },
  {
   "cell_type": "code",
   "execution_count": 31,
   "metadata": {},
   "outputs": [
    {
     "name": "stdout",
     "output_type": "stream",
     "text": [
      "Mean cross-validation log-loss 1.06493844307\n"
     ]
    }
   ],
   "source": [
    "# Run a 10-fold cross-validation using train set\n",
    "log_loss = []\n",
    "train_pred = np.zeros([train.shape[0], 3])\n",
    "kf = model_selection.KFold(n_splits = 10, shuffle = True, random_state = 1001)\n",
    "for dev_idx, val_idx in kf.split(train):\n",
    "    X_dev, X_val = train_lda[dev_idx], train_lda[val_idx]\n",
    "    y_dev, y_val = y[dev_idx], y[val_idx]\n",
    "    nb = naive_bayes.MultinomialNB()\n",
    "    nb.fit(X_dev, y_dev)\n",
    "    y_pred = nb.predict_proba(X_val)\n",
    "    log_loss.append(metrics.log_loss(y_val, y_pred))\n",
    "    train_pred[val_idx] = y_pred # The predicted probabilities for validation set \n",
    "\n",
    "print(\"Mean cross-validation log-loss\", np.mean(log_loss))"
   ]
  },
  {
   "cell_type": "code",
   "execution_count": 32,
   "metadata": {},
   "outputs": [
    {
     "name": "stdout",
     "output_type": "stream",
     "text": [
      "Confusion matrix, without normalization\n",
      "[[775   4   3]\n",
      " [554  12   0]\n",
      " [608   1   0]]\n"
     ]
    },
    {
     "data": {
      "image/png": "[encoded data removed]",
      "text/plain": [
       "<matplotlib.figure.Figure at 0x120a039e8>"
      ]
     },
     "metadata": {},
     "output_type": "display_data"
    }
   ],
   "source": [
    "# Compute confusion matrix\n",
    "cnf_matrix = metrics.confusion_matrix(y_val, np.argmax(y_pred, axis = 1))\n",
    "np.set_printoptions(precision=2)\n",
    "\n",
    "# Plot non-normalized confusion matrix\n",
    "plt.figure()\n",
    "plot_confusion_matrix(cnf_matrix, classes=['EAP', 'HPL', 'MWS'],\n",
    "                      title='Confusion matrix, without normalization')\n",
    "\n",
    "plt.show()"
   ]
  },
  {
   "cell_type": "markdown",
   "metadata": {},
   "source": [
    "The model gives a high log-loss and seems to predict every sentence to EAP. However, as it might provide additional information to tf-idf and term frequencies, let's just keep it."
   ]
  },
  {
   "cell_type": "code",
   "execution_count": 33,
   "metadata": {
    "collapsed": true
   },
   "outputs": [],
   "source": [
    "# Add the probabilities to features of train set\n",
    "train['lda_EAP'] = train_pred[:, 0]\n",
    "train['lda_HPL'] = train_pred[:, 1]\n",
    "train['lda_MWS'] = train_pred[:, 2]"
   ]
  },
  {
   "cell_type": "code",
   "execution_count": 34,
   "metadata": {
    "collapsed": true
   },
   "outputs": [],
   "source": [
    "nb = naive_bayes.MultinomialNB()\n",
    "nb.fit(train_lda, y)\n",
    "test_pred = nb.predict_proba(test_lda)\n",
    "\n",
    "# Add the probabilities to features of test set\n",
    "test['lda_EAP'] = test_pred[:, 0]\n",
    "test['lda_HPL'] = test_pred[:, 1]\n",
    "test['lda_MWS'] = test_pred[:, 2]"
   ]
  },
  {
   "cell_type": "markdown",
   "metadata": {},
   "source": [
    "Let's save the features for future use."
   ]
  },
  {
   "cell_type": "code",
   "execution_count": 35,
   "metadata": {
    "collapsed": true
   },
   "outputs": [],
   "source": [
    "train.to_csv('train_features.csv')\n",
    "test.to_csv('test_features.csv')"
   ]
  },
  {
   "cell_type": "markdown",
   "metadata": {},
   "source": [
    "Model with Combined Features\n",
    "------------\n",
    "\n",
    "Now let's use the sentence statistics and text features we have created so far and train a xgboost model on them."
   ]
  },
  {
   "cell_type": "code",
   "execution_count": 36,
   "metadata": {
    "collapsed": true
   },
   "outputs": [],
   "source": [
    "def run_xgboost(X_train, y_train, X_val):\n",
    "    param = {'silent': 1, 'eta': 0.1, 'max_depth': 3, 'subsample': 0.8, 'colsample_bytree': 0.5,\n",
    "             'objective': 'multi:softprob', 'eval_metric': 'mlogloss', 'num_class': 3, 'seed': 1001}\n",
    "    plst = param.items()\n",
    "    num_round = 1000\n",
    "    dtrain = xgb.DMatrix(X_train, label = y_train)\n",
    "    model = xgb.train(plst, dtrain, num_round)\n",
    "    dtest = xgb.DMatrix(X_val)\n",
    "    y_pred = model.predict(dtest, ntree_limit = model.best_ntree_limit)\n",
    "    return model, y_pred"
   ]
  },
  {
   "cell_type": "code",
   "execution_count": 37,
   "metadata": {},
   "outputs": [
    {
     "data": {
      "text/plain": [
       "(19579, 222)"
      ]
     },
     "execution_count": 37,
     "metadata": {},
     "output_type": "execute_result"
    }
   ],
   "source": [
    "# Features\n",
    "X = train.drop(['id', 'text', 'author'], axis = 1)\n",
    "X.shape"
   ]
  },
  {
   "cell_type": "code",
   "execution_count": 38,
   "metadata": {},
   "outputs": [
    {
     "name": "stdout",
     "output_type": "stream",
     "text": [
      "Mean cross-validation log-loss 0.325717551979\n"
     ]
    }
   ],
   "source": [
    "# Run a 10-fold cross-validation using train set\n",
    "log_loss = []\n",
    "kf = model_selection.KFold(n_splits = 10, shuffle = True, random_state = 1001)\n",
    "for dev_idx, val_idx in kf.split(X):\n",
    "    X_dev, X_val = X.iloc[dev_idx], X.iloc[val_idx]\n",
    "    y_dev, y_val = y[dev_idx], y[val_idx]\n",
    "    model, y_pred = run_xgboost(X_dev, y_dev, X_val)\n",
    "    log_loss.append(metrics.log_loss(y_val, y_pred))\n",
    "\n",
    "print(\"Mean cross-validation log-loss\", np.mean(log_loss))"
   ]
  },
  {
   "cell_type": "markdown",
   "metadata": {},
   "source": [
    "The log-loss is only 0.33 now. Let's fit XGBoost model using all the train data and predict the authors for the test set."
   ]
  },
  {
   "cell_type": "code",
   "execution_count": 39,
   "metadata": {},
   "outputs": [
    {
     "data": {
      "text/plain": [
       "(8392, 222)"
      ]
     },
     "execution_count": 39,
     "metadata": {},
     "output_type": "execute_result"
    }
   ],
   "source": [
    "# Features of test set\n",
    "X_test = test.drop(['id', 'text'], axis = 1)\n",
    "X_test.shape"
   ]
  },
  {
   "cell_type": "code",
   "execution_count": 40,
   "metadata": {
    "collapsed": true
   },
   "outputs": [],
   "source": [
    "model, test_prob = run_xgboost(X, y, X_test)"
   ]
  },
  {
   "cell_type": "markdown",
   "metadata": {},
   "source": [
    "Then we merge the id and prediction of the test set and submit it to kaggle. The score is 0.32536, much better than what we achieved in Notebook 1."
   ]
  },
  {
   "cell_type": "code",
   "execution_count": 41,
   "metadata": {},
   "outputs": [
    {
     "data": {
      "text/html": [
       "<div>\n",
       "<style>\n",
       "    .dataframe thead tr:only-child th {\n",
       "        text-align: right;\n",
       "    }\n",
       "\n",
       "    .dataframe thead th {\n",
       "        text-align: left;\n",
       "    }\n",
       "\n",
       "    .dataframe tbody tr th {\n",
       "        vertical-align: top;\n",
       "    }\n",
       "</style>\n",
       "<table border=\"1\" class=\"dataframe\">\n",
       "  <thead>\n",
       "    <tr style=\"text-align: right;\">\n",
       "      <th></th>\n",
       "      <th>id</th>\n",
       "      <th>EAP</th>\n",
       "      <th>HPL</th>\n",
       "      <th>MWS</th>\n",
       "    </tr>\n",
       "  </thead>\n",
       "  <tbody>\n",
       "    <tr>\n",
       "      <th>0</th>\n",
       "      <td>id02310</td>\n",
       "      <td>0.00531819</td>\n",
       "      <td>0.000372162</td>\n",
       "      <td>0.99431</td>\n",
       "    </tr>\n",
       "    <tr>\n",
       "      <th>1</th>\n",
       "      <td>id24541</td>\n",
       "      <td>0.999815</td>\n",
       "      <td>0.000130633</td>\n",
       "      <td>5.46674e-05</td>\n",
       "    </tr>\n",
       "    <tr>\n",
       "      <th>2</th>\n",
       "      <td>id00134</td>\n",
       "      <td>0.0122961</td>\n",
       "      <td>0.9859</td>\n",
       "      <td>0.0018042</td>\n",
       "    </tr>\n",
       "    <tr>\n",
       "      <th>3</th>\n",
       "      <td>id27757</td>\n",
       "      <td>0.554181</td>\n",
       "      <td>0.443798</td>\n",
       "      <td>0.00202074</td>\n",
       "    </tr>\n",
       "    <tr>\n",
       "      <th>4</th>\n",
       "      <td>id04081</td>\n",
       "      <td>0.970684</td>\n",
       "      <td>0.0248762</td>\n",
       "      <td>0.00444029</td>\n",
       "    </tr>\n",
       "  </tbody>\n",
       "</table>\n",
       "</div>"
      ],
      "text/plain": [
       "        id         EAP          HPL          MWS\n",
       "0  id02310  0.00531819  0.000372162      0.99431\n",
       "1  id24541    0.999815  0.000130633  5.46674e-05\n",
       "2  id00134   0.0122961       0.9859    0.0018042\n",
       "3  id27757    0.554181     0.443798   0.00202074\n",
       "4  id04081    0.970684    0.0248762   0.00444029"
      ]
     },
     "execution_count": 41,
     "metadata": {},
     "output_type": "execute_result"
    }
   ],
   "source": [
    "sub_id = test['id'].values.reshape((len(test['id']), 1))\n",
    "submission = np.concatenate((sub_id, test_prob), axis = 1)\n",
    "submission = pd.DataFrame(submission, columns = ['id', 'EAP', 'HPL', 'MWS'])\n",
    "submission.head()"
   ]
  },
  {
   "cell_type": "code",
   "execution_count": 42,
   "metadata": {
    "collapsed": true
   },
   "outputs": [],
   "source": [
    "submission.to_csv('submission.csv')"
   ]
  },
  {
   "cell_type": "markdown",
   "metadata": {},
   "source": [
    "Reference\n",
    "---------\n",
    "\n",
    "[1] https://www.analyticsvidhya.com/blog/2016/03/complete-guide-parameter-tuning-xgboost-with-codes-python/\n",
    "\n",
    "[2] https://www.kaggle.com/sudalairajkumar/simple-feature-engg-notebook-spooky-author\n",
    "\n",
    "[3] http://scikit-learn.org/stable/auto_examples/model_selection/plot_confusion_matrix.html\n",
    "\n",
    "[4] https://www.kaggle.com/skrcode/0-29-public-lb-score-beginner-nlp-tutorial"
   ]
  }
 ],
 "metadata": {
  "kernelspec": {
   "display_name": "Python 3",
   "language": "python",
   "name": "python3"
  },
  "language_info": {
   "codemirror_mode": {
    "name": "ipython",
    "version": 3
   },
   "file_extension": ".py",
   "mimetype": "text/x-python",
   "name": "python",
   "nbconvert_exporter": "python",
   "pygments_lexer": "ipython3",
   "version": "3.6.2"
  }
 },
 "nbformat": 4,
 "nbformat_minor": 2
}
